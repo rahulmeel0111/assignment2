{
 "cells": [
  {
   "cell_type": "code",
   "execution_count": 1,
   "id": "7a5056e1-bb97-42f8-b208-010dae3ae464",
   "metadata": {},
   "outputs": [],
   "source": [
    "#1. Discuss string slicing and provide examples.\n",
    "#String slicing >>String slicing in Python allows you to extract a portion of a string by specifying a start and end index.\n"
   ]
  },
  {
   "cell_type": "code",
   "execution_count": 2,
   "id": "7d4dc4a1-891d-4c11-9182-0b0141223e25",
   "metadata": {},
   "outputs": [
    {
     "data": {
      "text/plain": [
       "'Rahul'"
      ]
     },
     "execution_count": 2,
     "metadata": {},
     "output_type": "execute_result"
    }
   ],
   "source": [
    "name=\"Rahul\"\n",
    "name"
   ]
  },
  {
   "cell_type": "code",
   "execution_count": 10,
   "id": "2d75f881-3715-4973-8903-52ce2e0682f4",
   "metadata": {},
   "outputs": [
    {
     "data": {
      "text/plain": [
       "'au'"
      ]
     },
     "execution_count": 10,
     "metadata": {},
     "output_type": "execute_result"
    }
   ],
   "source": [
    "name[1:4:1]#here one is by default"
   ]
  },
  {
   "cell_type": "code",
   "execution_count": 6,
   "id": "fd6c2ee3-4329-41eb-ae38-df87a7fffce6",
   "metadata": {},
   "outputs": [
    {
     "data": {
      "text/plain": [
       "[1, 2, 3, 4, 5, 6, 7, 8, 9, 0]"
      ]
     },
     "execution_count": 6,
     "metadata": {},
     "output_type": "execute_result"
    }
   ],
   "source": [
    "num=[1,2,3,4,5,6,7,8,9,0,]\n",
    "num"
   ]
  },
  {
   "cell_type": "code",
   "execution_count": 9,
   "id": "5b6dbbe9-cd45-4152-858b-10f004d2fba2",
   "metadata": {},
   "outputs": [
    {
     "data": {
      "text/plain": [
       "[1, 3, 5, 7]"
      ]
     },
     "execution_count": 9,
     "metadata": {},
     "output_type": "execute_result"
    }
   ],
   "source": [
    "num[0:8:2]"
   ]
  },
  {
   "cell_type": "code",
   "execution_count": 11,
   "id": "6f82629c-7588-433a-8764-86d183f6765b",
   "metadata": {},
   "outputs": [],
   "source": [
    "#2. Explain the key features of lists in Python.\n",
    " #list>> in list we can store anything >>can store hetrogenous data mean(string,float..)\n",
    "#list is an ordered collecetion of elements that can be of any data type.\n",
    "#list are mutable\n",
    "#use of list >> we can store any data and it is mutable for ex\n",
    "#we can perform many operation in list like add,remove >> elements"
   ]
  },
  {
   "cell_type": "code",
   "execution_count": 12,
   "id": "90563772-5497-4c0f-ad61-e5a1c8ef0817",
   "metadata": {},
   "outputs": [
    {
     "data": {
      "text/plain": [
       "[1, 50.5, 'Apple', 'banana', 'Mango', (3+58j)]"
      ]
     },
     "execution_count": 12,
     "metadata": {},
     "output_type": "execute_result"
    }
   ],
   "source": [
    "a=[1,50.5,\"Apple\", \"banana\",\"Mango\",3+58j]\n",
    "a"
   ]
  },
  {
   "cell_type": "code",
   "execution_count": 13,
   "id": "d2f1264c-2054-4e76-9731-cbc67fd7c473",
   "metadata": {},
   "outputs": [],
   "source": [
    "a.append(\"orange\")"
   ]
  },
  {
   "cell_type": "code",
   "execution_count": 14,
   "id": "0747c119-ccc9-44fb-82d9-024b10e86f96",
   "metadata": {},
   "outputs": [
    {
     "data": {
      "text/plain": [
       "[1, 50.5, 'Apple', 'banana', 'Mango', (3+58j), 'orange']"
      ]
     },
     "execution_count": 14,
     "metadata": {},
     "output_type": "execute_result"
    }
   ],
   "source": [
    "a"
   ]
  },
  {
   "cell_type": "code",
   "execution_count": 15,
   "id": "a9ffda87-446c-4f5c-8e27-e9939908e648",
   "metadata": {},
   "outputs": [],
   "source": [
    "a.remove(\"orange\")"
   ]
  },
  {
   "cell_type": "code",
   "execution_count": 16,
   "id": "10c13f64-0563-41e5-9978-65fc67e0a5d4",
   "metadata": {},
   "outputs": [
    {
     "data": {
      "text/plain": [
       "[1, 50.5, 'Apple', 'banana', 'Mango', (3+58j)]"
      ]
     },
     "execution_count": 16,
     "metadata": {},
     "output_type": "execute_result"
    }
   ],
   "source": [
    "a"
   ]
  },
  {
   "cell_type": "code",
   "execution_count": 17,
   "id": "d9f4fb8f-695c-4dd8-b4cb-8acf4dc19631",
   "metadata": {},
   "outputs": [],
   "source": [
    "#3. describe how to access, modify and delete elements in a list with example.\n"
   ]
  },
  {
   "cell_type": "code",
   "execution_count": 19,
   "id": "eb037c72-8e10-4732-a032-11618752e4da",
   "metadata": {},
   "outputs": [],
   "source": [
    "list=[[1,2,3] ,[4,5,6], [\"rahul\"], [\"meel\"]]"
   ]
  },
  {
   "cell_type": "code",
   "execution_count": 26,
   "id": "df191268-8b9c-4c0e-9e49-580ca93e90bc",
   "metadata": {},
   "outputs": [
    {
     "data": {
      "text/plain": [
       "[[1, 2, 3], [4, 5, 6], 'Ajay', ['meel']]"
      ]
     },
     "execution_count": 26,
     "metadata": {},
     "output_type": "execute_result"
    }
   ],
   "source": [
    "list"
   ]
  },
  {
   "cell_type": "code",
   "execution_count": 28,
   "id": "7827ff0d-e4a2-445f-950c-1c97949ee0f9",
   "metadata": {},
   "outputs": [
    {
     "data": {
      "text/plain": [
       "[1, 2, 3]"
      ]
     },
     "execution_count": 28,
     "metadata": {},
     "output_type": "execute_result"
    }
   ],
   "source": [
    "#Access the element of list\n",
    "list[0]"
   ]
  },
  {
   "cell_type": "code",
   "execution_count": 30,
   "id": "7d3a69d3-1b5b-4d21-b1a2-c9b07136f3d7",
   "metadata": {},
   "outputs": [
    {
     "data": {
      "text/plain": [
       "[4, 5, 6]"
      ]
     },
     "execution_count": 30,
     "metadata": {},
     "output_type": "execute_result"
    }
   ],
   "source": [
    "list[-3]"
   ]
  },
  {
   "cell_type": "code",
   "execution_count": null,
   "id": "3c57697f-a180-453d-b2b3-304d30239269",
   "metadata": {},
   "outputs": [
    {
     "data": {
      "text/plain": [
       "['rahul']"
      ]
     },
     "execution_count": 21,
     "metadata": {},
     "output_type": "execute_result"
    }
   ],
   "source": [
    "#modify\n",
    "list[2]"
   ]
  },
  {
   "cell_type": "code",
   "execution_count": 22,
   "id": "50f68104-5f52-4432-abe3-936f2f6ca7ed",
   "metadata": {},
   "outputs": [],
   "source": [
    "list[2]=\"Ajay\""
   ]
  },
  {
   "cell_type": "code",
   "execution_count": 27,
   "id": "726d6be3-f6bd-440f-b56b-2246cefd9edf",
   "metadata": {},
   "outputs": [
    {
     "data": {
      "text/plain": [
       "[[1, 2, 3], [4, 5, 6], 'Ajay', ['meel']]"
      ]
     },
     "execution_count": 27,
     "metadata": {},
     "output_type": "execute_result"
    }
   ],
   "source": [
    "list"
   ]
  },
  {
   "cell_type": "code",
   "execution_count": 35,
   "id": "54a77fc4-de4e-4575-9a1e-d5449be0161c",
   "metadata": {},
   "outputs": [
    {
     "ename": "ValueError",
     "evalue": "list.remove(x): x not in list",
     "output_type": "error",
     "traceback": [
      "\u001b[0;31m---------------------------------------------------------------------------\u001b[0m",
      "\u001b[0;31mValueError\u001b[0m                                Traceback (most recent call last)",
      "Cell \u001b[0;32mIn[35], line 3\u001b[0m\n\u001b[1;32m      1\u001b[0m \u001b[38;5;66;03m#Delete the element\u001b[39;00m\n\u001b[1;32m      2\u001b[0m \u001b[38;5;66;03m#Here we want to delete Ajay then.\u001b[39;00m\n\u001b[0;32m----> 3\u001b[0m \u001b[38;5;28;43mlist\u001b[39;49m\u001b[38;5;241;43m.\u001b[39;49m\u001b[43mremove\u001b[49m\u001b[43m(\u001b[49m\u001b[38;5;241;43m2\u001b[39;49m\u001b[43m)\u001b[49m\n",
      "\u001b[0;31mValueError\u001b[0m: list.remove(x): x not in list"
     ]
    }
   ],
   "source": [
    "#Delete the element\n",
    "#Here we want to delete Ajay then.\n",
    "list.remove(2)"
   ]
  },
  {
   "cell_type": "code",
   "execution_count": 1,
   "id": "cbd7a8b9-65ae-4d3a-961a-80485ec3d744",
   "metadata": {},
   "outputs": [],
   "source": [
    "#4.  Compare and contrast tuples and lists with examples"
   ]
  },
  {
   "cell_type": "code",
   "execution_count": 2,
   "id": "010928f6-7907-4896-9946-94b2756f2ac3",
   "metadata": {},
   "outputs": [],
   "source": [
    "#Use a list if you need a mutable collection of items where you may need to add, remove, or change elements.\n",
    "#Lists are more flexible and have more built-in methods, making them ideal for dynamic collections.\n",
    "#Use a tuple if you need an immutable collection where the elements won't change after creation.\n"
   ]
  },
  {
   "cell_type": "code",
   "execution_count": 3,
   "id": "13ee55ee-b2d1-4b8c-bef4-93adec085112",
   "metadata": {},
   "outputs": [
    {
     "data": {
      "text/plain": [
       "['potato', 'tomato', 'onion', 'lichi']"
      ]
     },
     "execution_count": 3,
     "metadata": {},
     "output_type": "execute_result"
    }
   ],
   "source": [
    "#List\n",
    "shoping_list=[\"potato\",\"tomato\",\"onion\",\"lichi\"]\n",
    "shoping_list"
   ]
  },
  {
   "cell_type": "code",
   "execution_count": 4,
   "id": "393114ef-8579-449f-998f-0b2451e691dd",
   "metadata": {},
   "outputs": [],
   "source": [
    "shoping_list[0]=\"graps\""
   ]
  },
  {
   "cell_type": "code",
   "execution_count": 5,
   "id": "1f16d5ee-5b25-40e0-817b-945a4644f41b",
   "metadata": {},
   "outputs": [
    {
     "data": {
      "text/plain": [
       "['graps', 'tomato', 'onion', 'lichi']"
      ]
     },
     "execution_count": 5,
     "metadata": {},
     "output_type": "execute_result"
    }
   ],
   "source": [
    "shoping_list"
   ]
  },
  {
   "cell_type": "code",
   "execution_count": 12,
   "id": "2ec45c3c-d600-48ec-9d9b-4452f8560475",
   "metadata": {},
   "outputs": [
    {
     "data": {
      "text/plain": [
       "['graps', 'onion', 'lichi']"
      ]
     },
     "execution_count": 12,
     "metadata": {},
     "output_type": "execute_result"
    }
   ],
   "source": [
    "shoping_list"
   ]
  },
  {
   "cell_type": "code",
   "execution_count": 14,
   "id": "063cfd12-6510-4313-b7e1-9d6b6576b637",
   "metadata": {},
   "outputs": [
    {
     "data": {
      "text/plain": [
       "['graps', 'lichi']"
      ]
     },
     "execution_count": 14,
     "metadata": {},
     "output_type": "execute_result"
    }
   ],
   "source": [
    "shoping_list.remove('onion')\n",
    "shoping_list"
   ]
  },
  {
   "cell_type": "code",
   "execution_count": 15,
   "id": "b00110f8-1a88-462e-8da8-2a1d5f9e8b1f",
   "metadata": {},
   "outputs": [],
   "source": [
    "#Tuple\n",
    "box1=(\"a\",\"b\")\n",
    "box2=(\"c\",\"d\")\n",
    "bag=(box1,box2) # here we add both of them."
   ]
  },
  {
   "cell_type": "code",
   "execution_count": 16,
   "id": "07b57256-83f3-44e1-b52c-347d4a636839",
   "metadata": {},
   "outputs": [
    {
     "data": {
      "text/plain": [
       "(('a', 'b'), ('c', 'd'))"
      ]
     },
     "execution_count": 16,
     "metadata": {},
     "output_type": "execute_result"
    }
   ],
   "source": [
    "bag"
   ]
  },
  {
   "cell_type": "code",
   "execution_count": 17,
   "id": "314e1dc2-7a9c-463a-9db1-4fd513054f44",
   "metadata": {},
   "outputs": [],
   "source": [
    "#5. Describe the key features of sets and provide examples of their use\n",
    "#Set. Sets are used to store multiple items in a single variable.\n",
    "#Set Items. Set items are unordered, unchangeable, and do not allow duplicate values.\n",
    "#Unordered. \n",
    "#Unchangeable. \n",
    "#Duplicates Not Allowed. \n",
    "#Get the Length of a Set. \n",
    "#Set Items - Data Types. "
   ]
  },
  {
   "cell_type": "code",
   "execution_count": 18,
   "id": "9faf76eb-2683-4d98-b533-e6fe21c5dd31",
   "metadata": {},
   "outputs": [],
   "source": [
    "s={\"apple\",\"mango\",\"orange\",\"apple\",\"orange\"}"
   ]
  },
  {
   "cell_type": "code",
   "execution_count": 19,
   "id": "49f78c5d-ef8e-427a-98de-c37fbd2aabc6",
   "metadata": {},
   "outputs": [
    {
     "data": {
      "text/plain": [
       "{'apple', 'mango', 'orange'}"
      ]
     },
     "execution_count": 19,
     "metadata": {},
     "output_type": "execute_result"
    }
   ],
   "source": [
    "s"
   ]
  },
  {
   "cell_type": "code",
   "execution_count": 20,
   "id": "37f9dc02-7df9-4584-9b02-ea21f051c0cd",
   "metadata": {},
   "outputs": [
    {
     "data": {
      "text/plain": [
       "set"
      ]
     },
     "execution_count": 20,
     "metadata": {},
     "output_type": "execute_result"
    }
   ],
   "source": [
    "type(s)"
   ]
  },
  {
   "cell_type": "code",
   "execution_count": 21,
   "id": "90787d99-568f-4f9a-b90e-4435af759df4",
   "metadata": {},
   "outputs": [],
   "source": [
    "s1={\"a\",\"A\",\"a\",\"a\",1,1,1.1,2,5.5}"
   ]
  },
  {
   "cell_type": "code",
   "execution_count": 22,
   "id": "2922777e-a171-4bc9-b5ea-1fb63ec520fa",
   "metadata": {},
   "outputs": [
    {
     "data": {
      "text/plain": [
       "{1, 1.1, 2, 5.5, 'A', 'a'}"
      ]
     },
     "execution_count": 22,
     "metadata": {},
     "output_type": "execute_result"
    }
   ],
   "source": [
    "s1"
   ]
  },
  {
   "cell_type": "code",
   "execution_count": 23,
   "id": "2d137c0f-b924-4bab-9512-866b5b75e63c",
   "metadata": {},
   "outputs": [],
   "source": [
    "#6. Discus the use cases of tuples and sets in Python programming\n",
    "\n"
   ]
  },
  {
   "cell_type": "code",
   "execution_count": 24,
   "id": "dfb7aa8e-9c5a-4792-8c83-9bacb84f1a62",
   "metadata": {},
   "outputs": [],
   "source": [
    "#Tuples are immutable collections of variables, so they can't be changed after creation.\n",
    "#Sets are mutable collections of variables, so sets can be changed after creation.\n",
    "#The better choice is set because it allows us to add or remove items while the Set is in use"
   ]
  },
  {
   "cell_type": "code",
   "execution_count": 25,
   "id": "3093ff72-0d7b-4d33-b8e1-637c796ac861",
   "metadata": {},
   "outputs": [],
   "source": [
    "#7 Describe how to add, modify and delete items in a dictionary with examples\n"
   ]
  },
  {
   "cell_type": "code",
   "execution_count": 26,
   "id": "77d8cff2-bec1-4e96-936c-30de8ec70378",
   "metadata": {},
   "outputs": [
    {
     "data": {
      "text/plain": [
       "{'Dal': 200, 'Paneer tikka': 350, 'Rice': 150}"
      ]
     },
     "execution_count": 26,
     "metadata": {},
     "output_type": "execute_result"
    }
   ],
   "source": [
    "rest_menu = {\"Dal\" : 200 , \"Paneer tikka\" : 350 , \"Rice\" : 150}\n",
    "rest_menu"
   ]
  },
  {
   "cell_type": "code",
   "execution_count": 30,
   "id": "f81d2a3b-ca34-4dc4-a0a5-e965ba9b908f",
   "metadata": {},
   "outputs": [],
   "source": [
    "#add item\n",
    "rest_menu.update({\"Gulab jammun\":\"50\"})"
   ]
  },
  {
   "cell_type": "code",
   "execution_count": 31,
   "id": "bfa6b786-c34b-4af3-9a6d-402d585f7648",
   "metadata": {},
   "outputs": [
    {
     "data": {
      "text/plain": [
       "{'Dal': 200, 'Paneer tikka': 350, 'Rice': 150, 'Gulab jammun': '50'}"
      ]
     },
     "execution_count": 31,
     "metadata": {},
     "output_type": "execute_result"
    }
   ],
   "source": [
    "rest_menu"
   ]
  },
  {
   "cell_type": "code",
   "execution_count": 32,
   "id": "04ebb3fb-cfc2-4d74-b173-ac3c3fae7277",
   "metadata": {},
   "outputs": [],
   "source": [
    "#modify item\n",
    "rest_menu[\"Rice\"]=200"
   ]
  },
  {
   "cell_type": "code",
   "execution_count": 33,
   "id": "c63ffdb6-acaf-4fce-b05a-904b696983e4",
   "metadata": {},
   "outputs": [
    {
     "data": {
      "text/plain": [
       "{'Dal': 200, 'Paneer tikka': 350, 'Rice': 200, 'Gulab jammun': '50'}"
      ]
     },
     "execution_count": 33,
     "metadata": {},
     "output_type": "execute_result"
    }
   ],
   "source": [
    "rest_menu"
   ]
  },
  {
   "cell_type": "code",
   "execution_count": 39,
   "id": "41c49780-f1c4-42f1-ba71-6a2c71a3b4c3",
   "metadata": {},
   "outputs": [],
   "source": [
    "del rest_menu[\"Dal\"]"
   ]
  },
  {
   "cell_type": "code",
   "execution_count": 40,
   "id": "f477cffe-4840-4b38-962e-be905f150d06",
   "metadata": {},
   "outputs": [
    {
     "data": {
      "text/plain": [
       "{'Paneer tikka': 350, 'Rice': 200, 'Gulab jammun': '50'}"
      ]
     },
     "execution_count": 40,
     "metadata": {},
     "output_type": "execute_result"
    }
   ],
   "source": [
    "rest_menu"
   ]
  },
  {
   "cell_type": "code",
   "execution_count": 41,
   "id": "ce3ced7a-b401-4a02-bc31-1df5848c9572",
   "metadata": {},
   "outputs": [],
   "source": [
    "#8  Discuss the importance of dictionary keys being immutable and provide examples"
   ]
  },
  {
   "cell_type": "code",
   "execution_count": 42,
   "id": "cc9b51e8-6d07-46e7-8c97-2d487b8814a7",
   "metadata": {},
   "outputs": [],
   "source": [
    "#In a dictionary, the key part must be immutable.\n",
    "#This means that once a key is created, it cannot be changed"
   ]
  },
  {
   "cell_type": "code",
   "execution_count": 43,
   "id": "c9cde2c1-8855-445d-9ac2-a6eb3bcaec37",
   "metadata": {},
   "outputs": [],
   "source": [
    "#Here every employe have her id and every id have unique number \n",
    "#eys are unique and immutable.\n",
    "employee_record={\n",
    "    'E001':{\"Name\":\"Rahul Meel\",\"Department\":\"Engineering\",\"Salary\":80000},\n",
    "    'E002':{\"Name\":\"Faisal Sayyed\",\"Department\":\"Data Science\",\"Salary\":85000},\n",
    "    'E003':{\"Name\":\"Saloni\",\"Department\":\"Web\",\"Salary\":60000},}"
   ]
  },
  {
   "cell_type": "code",
   "execution_count": 44,
   "id": "b0c1f087-b570-4478-9c59-6985d74065c5",
   "metadata": {},
   "outputs": [
    {
     "data": {
      "text/plain": [
       "{'E001': {'Name': 'Rahul Meel', 'Department': 'Engineering', 'Salary': 80000},\n",
       " 'E002': {'Name': 'Faisal Sayyed',\n",
       "  'Department': 'Data Science',\n",
       "  'Salary': 85000},\n",
       " 'E003': {'Name': 'Saloni', 'Department': 'Web', 'Salary': 60000}}"
      ]
     },
     "execution_count": 44,
     "metadata": {},
     "output_type": "execute_result"
    }
   ],
   "source": [
    "employee_record"
   ]
  },
  {
   "cell_type": "code",
   "execution_count": 45,
   "id": "55996d20-3e3c-4205-a123-7681d4f60896",
   "metadata": {},
   "outputs": [],
   "source": []
  },
  {
   "cell_type": "code",
   "execution_count": null,
   "id": "d9a40752-8486-46e7-abc6-7e788b01941c",
   "metadata": {},
   "outputs": [],
   "source": []
  },
  {
   "cell_type": "code",
   "execution_count": null,
   "id": "419b8f1f-b6c6-4c4c-9f48-21c93ad2461f",
   "metadata": {},
   "outputs": [],
   "source": []
  }
 ],
 "metadata": {
  "kernelspec": {
   "display_name": "Python 3 (ipykernel)",
   "language": "python",
   "name": "python3"
  },
  "language_info": {
   "codemirror_mode": {
    "name": "ipython",
    "version": 3
   },
   "file_extension": ".py",
   "mimetype": "text/x-python",
   "name": "python",
   "nbconvert_exporter": "python",
   "pygments_lexer": "ipython3",
   "version": "3.10.8"
  }
 },
 "nbformat": 4,
 "nbformat_minor": 5
}
